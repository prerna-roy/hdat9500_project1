{
  "nbformat": 4,
  "nbformat_minor": 0,
  "metadata": {
    "colab": {
      "provenance": [],
      "include_colab_link": true
    },
    "kernelspec": {
      "name": "python3",
      "display_name": "Python 3"
    },
    "language_info": {
      "name": "python"
    }
  },
  "cells": [
    {
      "cell_type": "markdown",
      "metadata": {
        "id": "view-in-github",
        "colab_type": "text"
      },
      "source": [
        "<a href=\"https://colab.research.google.com/github/prerna-roy/hdat9500_project1/blob/main/z5650460_Project_01.ipynb\" target=\"_parent\"><img src=\"https://colab.research.google.com/assets/colab-badge.svg\" alt=\"Open In Colab\"/></a>"
      ]
    },
    {
      "cell_type": "markdown",
      "source": [
        "---\n",
        "PROJECT 1: HDAT9500 T2 2025\n",
        "\n",
        "---\n",
        "\n",
        "\n",
        "\n"
      ],
      "metadata": {
        "id": "KZdQ0wqn2rUX"
      }
    },
    {
      "cell_type": "markdown",
      "source": [
        "\n",
        "\n",
        "---\n",
        "\n",
        "**zID:** z5650460\n",
        "\n",
        "**Name:** Prerna Roy\n",
        "\n",
        "Any other metadata you wish to add\n",
        "#####################################################################################"
      ],
      "metadata": {
        "id": "vFXo4tbA2wAP"
      }
    },
    {
      "cell_type": "markdown",
      "source": [
        "[Start Your response from here...]"
      ],
      "metadata": {
        "id": "Ulw00V0P8GTB"
      }
    },
    {
      "cell_type": "markdown",
      "source": [
        "\n",
        "\n",
        "---\n",
        "\n",
        "\n",
        "\n",
        "---\n",
        "\n",
        "\n",
        "\n",
        "---\n",
        "\n"
      ],
      "metadata": {
        "id": "7AUkQ2RHZxq6"
      }
    },
    {
      "cell_type": "markdown",
      "source": [
        "\n",
        "\n",
        "---\n",
        "\n",
        "\n",
        "\n",
        "---\n",
        "\n",
        "\n",
        "\n",
        "---\n",
        "\n"
      ],
      "metadata": {
        "id": "51k6p4mZuFps"
      }
    },
    {
      "cell_type": "markdown",
      "source": [
        "#####################################################################################\n",
        "\n",
        "Declaratation:\n",
        "\n",
        "I, Prerna Roy (zID: z5650460), affirm that this assessment is my own original work. I have not submitted this work for credit\n",
        "elsewhere, before this course, or for any other purpose outside of this course.\n",
        "\n",
        "I understand that the assessor may:\n",
        "\n",
        "\n",
        "*   Share this work with another university faculty member for assessment purposes.\n",
        "*   Submit this work to a plagiarism detection service, which might store a copy for future checks.\n",
        "*   May use this assessment item for Scholarship of Teaching and Learning (SOTL) purposes, including educational research and\n",
        "teaching demonstration.\n",
        "\n",
        "#####################################################################################"
      ],
      "metadata": {
        "id": "dPdqdgeP8NZ9"
      }
    },
    {
      "cell_type": "markdown",
      "source": [
        "# <font color=\"green\">**Question 1: Project Preparation (8 marks)**</font>\n",
        "## Write the health data science question. **In addition**, include the following *key considerations*.\n"
      ],
      "metadata": {
        "id": "AvDAjF7x-sA3"
      }
    },
    {
      "cell_type": "markdown",
      "source": [],
      "metadata": {
        "id": "owB9r5Bnp6DM"
      }
    },
    {
      "cell_type": "markdown",
      "source": [
        "---\n",
        "\n",
        "## <font color=\"green\">***Key Considerations:***</font>\n",
        "\n",
        "\n",
        "---\n"
      ],
      "metadata": {
        "id": "x3uBc4SFAvCa"
      }
    },
    {
      "cell_type": "markdown",
      "source": [
        "---\n",
        "\n",
        "## Understanding the Health Question and Requirements\n",
        "\n",
        "1. **Tumour**  \n",
        "   What exactly does it mean for a tumour to be malignant or benign?\n",
        "\n",
        "2. **Importance**  \n",
        "   Why is it critical to accurately classify tumour types from a healthcare perspective?\n",
        "\n",
        "3. **Implications**  \n",
        "   What real-world consequences could a false classification have for patients?\n",
        "\n",
        "---\n",
        "\n",
        "## Reframing the Health Question as a Data Science Problem\n",
        "\n",
        "4. **Classification Goal**  \n",
        "   We aim to build a model that outputs [describe the intended output]. Is our output continuous, categorical, ...?\n",
        "\n",
        "5. **Method Selection**  \n",
        "   Which methods or models from the ones we have studied so far could we use to answer this question?\n",
        "\n",
        "6. **Method Evaluation – Success Criteria**  \n",
        "   Decide on evaluation metrics (e.g. accuracy, F1 score, precision, recall) that best capture “success” in a medical context.\n",
        "\n",
        "7. **Data**  \n",
        "   Reflect on the data available (e.g. Wisconsin dataset) and what you know about it.\n",
        "\n",
        "8. **Hardware**  \n",
        "   Consider whether the dataset will run smoothly in Colab (given its relatively small size).\n",
        "\n",
        "9. **Software and Libraries**  \n",
        "   List and justify the software and libraries you intend to use.\n",
        "\n",
        "10. **Version Control**  \n",
        "   Explain how you will manage and track changes.\n",
        "\n",
        "11. **Table of Variables and Constants**  \n",
        "   Include *all* variables and constants used in this notebook along with their definitions."
      ],
      "metadata": {
        "id": "gx5Fhb5W2xyN"
      }
    },
    {
      "cell_type": "markdown",
      "source": [
        "# <font color=\"green\"> **Question 2: Data (10 marks)**</font>\n"
      ],
      "metadata": {
        "id": "T7o8TE7UMoRZ"
      }
    },
    {
      "cell_type": "markdown",
      "source": [
        "You can access the dataset using the following code snippet — please avoid using hardcoded file paths.\n",
        "You can also preview the data [here](https://drive.google.com/file/d/1F5vzyK32L4JSckD9-_nvoF003v_GqLu7/view)."
      ],
      "metadata": {
        "id": "DTKBfPld4pTt"
      }
    },
    {
      "cell_type": "code",
      "source": [
        "import pandas as pd\n",
        "\n",
        "url = 'https://raw.githubusercontent.com/cbdrh-HDAT9500-T2-2025/Data-Project-1/refs/heads/main/FNA-Breast-Cancer-Tumour-Dataset.csv'\n",
        "df = pd.read_csv(url)"
      ],
      "metadata": {
        "id": "yapVOSMb4HBZ"
      },
      "execution_count": null,
      "outputs": []
    },
    {
      "cell_type": "markdown",
      "source": [
        "## Perform exploratory data analysis on the [dataset](https://drive.google.com/file/d/1F5vzyK32L4JSckD9-_nvoF003v_GqLu7/view?usp=sharing), and then prepare it for subsequent steps.\n",
        "\n",
        "Apart from any other steps you deem relevant for exploratory data analysis, please include:\n",
        "\n",
        "- **Descriptive statistics**: Use the `pandas` function `describe()` to summarise the variables.  \n",
        "- **Correlations**: Calculate and examine the correlations between variables.  \n",
        "- **Data preparation**: Prepare the data for use in the algorithms you will create. Specifically, divide the data into an 80% training set and a 20% test set using `train_test_split` with a random seed of 2025. You may set any other `train_test_split` parameters as you see fit."
      ],
      "metadata": {
        "id": "YvUCKmk6XfLL"
      }
    },
    {
      "cell_type": "markdown",
      "source": [
        "**The data custodians who provided the dataset informed us that it differs from the original in three primary ways:**\n",
        "\n",
        "1. Some patients underwent two Fine Needle Aspirations (FNAs), each performed some time apart. Both tests were performed correctly.\n",
        "2. The dataset includes a categorical variable called *age*, which is coded as follows:  \n",
        "   - Women aged 18–34: `105`  \n",
        "   - Women aged 35–49: `3`  \n",
        "   - Women aged 50–64: `88`  \n",
        "   - Women over 65: `5`  "
      ],
      "metadata": {
        "id": "JzPwtKa1WK1K"
      }
    },
    {
      "cell_type": "markdown",
      "source": [
        "################################################################################\n",
        "\n",
        "[Double-click to write your answer. Create as many text cells as needed].\n",
        "\n",
        "\n",
        "\n",
        "################################################################################"
      ],
      "metadata": {
        "id": "Wa8f7FBAZeGL"
      }
    },
    {
      "cell_type": "code",
      "source": [
        "# [Write your Python code here. Create as many code cells as needed]."
      ],
      "metadata": {
        "id": "SjLkb3RpZeGN"
      },
      "execution_count": null,
      "outputs": []
    },
    {
      "cell_type": "markdown",
      "source": [
        "\n",
        "\n",
        "---\n",
        "\n",
        "\n",
        "\n",
        "---\n",
        "\n",
        "\n",
        "\n",
        "---\n",
        "\n"
      ],
      "metadata": {
        "id": "7AAaR9FGg2xf"
      }
    },
    {
      "cell_type": "markdown",
      "source": [
        "# <font color=\"green\">**Question 3: Training and Tuning (10 marks)**</font>\n"
      ],
      "metadata": {
        "id": "PoJmB08jZiWs"
      }
    },
    {
      "cell_type": "markdown",
      "source": [
        "## Train and tune the hyperparameters of a Logistic Regression model. Give the  logistic regression model the name `log_reg`.\n",
        "\n",
        "Hyper-parameters:\n",
        "\n",
        "- `penalty`: `l2`, `l1`.\n",
        "- `C` values: 0.05, 0.5, 5, 50, 500.\n",
        "- `class_weight`: Choose one of these two combinations of weights (option A or option B) and explain why you think the weights are important.\n",
        "\n",
        "    * **Option A (Weights specified as Class 1, then Class 0):**\n",
        "\n",
        "        - (80% for class 1, 20% for class 0)\n",
        "        - (70% for class 1, 30% for class 0)\n",
        "        - (60% for class 1, 40% for class 0)\n",
        "        - None (i.e., no weights)\n",
        "\n",
        "    * **Option B (Weights specified as Class 0, then Class 1):**\n",
        "\n",
        "      - (80% for class 0, 20% for class 1)\n",
        "      - (70% for class 0, 30% for class 1)\n",
        "      - (60% for class 0, 40% for class 1)\n",
        "      - None (i.e., no weights)\n",
        "\n",
        "- `k=4`, that is, 4-fold cross-validation for the grid search.\n",
        "- Give the grid search object the name `gs_log_reg`.\n",
        "- `f1` as the score to choose the best model in the grid search.\n",
        "- `n_jobs`=-1.\n",
        "- do not change these hyper-parameters.\n",
        "- if you do not know how to incorporate some of the hyperparameters, please proceed with those you know how to incorporate. This will be reflected in your mark, but you will still receive some credit.\n",
        "\n",
        "\n",
        "Python code limit:\n",
        "- 20 lines (comments excluded). You may use as many cells as necessary for these lines.\n",
        "---"
      ],
      "metadata": {
        "id": "Ys3a3o4vZiWt"
      }
    },
    {
      "cell_type": "markdown",
      "source": [
        "################################################################################\n",
        "\n",
        "[Double-click to write your answer. Create as many text cells as needed].\n",
        "\n",
        "\n",
        "################################################################################"
      ],
      "metadata": {
        "id": "iFhwCsSXZevd"
      }
    },
    {
      "cell_type": "code",
      "source": [
        "# [Write your Python code here. Create as many code cells as needed].\n",
        "# Python code limit: 20 lines (comments excluded). You may use as many cells as necessary for these lines."
      ],
      "metadata": {
        "id": "CCV_CgWoZevd"
      },
      "execution_count": null,
      "outputs": []
    },
    {
      "cell_type": "markdown",
      "source": [
        "\n",
        "\n",
        "---\n",
        "\n",
        "\n",
        "\n",
        "---\n",
        "\n",
        "\n",
        "\n",
        "---\n",
        "\n"
      ],
      "metadata": {
        "id": "Sw7HH50Ag6EP"
      }
    },
    {
      "cell_type": "markdown",
      "source": [
        "# <font color=\"green\">**Question 4: Evaluation (8 marks)**</font>\n"
      ],
      "metadata": {
        "id": "DMQPe66Fcr_D"
      }
    },
    {
      "cell_type": "markdown",
      "source": [
        "## Evaluate the model that was developed by following the steps from previous notebooks, as explained in class.\n",
        "\n",
        "For Question 4, comment on the results objectively, but do not provide any interpretation or discuss how the results relate to the research question or impact stakeholders, as these aspects will be covered in Question 5."
      ],
      "metadata": {
        "id": "2-6BaHuScr_E"
      }
    },
    {
      "cell_type": "markdown",
      "source": [
        "################################################################################\n",
        "\n",
        "[Double-click to write your answer. Create as many text cells as needed].\n",
        "\n",
        "\n",
        "################################################################################"
      ],
      "metadata": {
        "id": "wZTE7NFPZe6u"
      }
    },
    {
      "cell_type": "code",
      "source": [
        "# [Write your Python code here. Create as many code cells as needed]."
      ],
      "metadata": {
        "id": "iVq-hn0NZe6v"
      },
      "execution_count": null,
      "outputs": []
    },
    {
      "cell_type": "markdown",
      "source": [
        "\n",
        "\n",
        "---\n",
        "\n",
        "\n",
        "\n",
        "---\n",
        "\n",
        "\n",
        "\n",
        "---\n",
        "\n"
      ],
      "metadata": {
        "id": "f9z6QnMPg_oW"
      }
    },
    {
      "cell_type": "markdown",
      "source": [
        "# <font color=\"green\">**Question 5: Deployment, Monitoring and Maintenance (10 marks)**</font>\n",
        "\n",
        "\n"
      ],
      "metadata": {
        "id": "bVQ3SExGf6KX"
      }
    },
    {
      "cell_type": "markdown",
      "source": [
        "## Elaborate on the model’s strengths, limitations, pros, and cons, and explain whether or not you would deploy it. In your response, reflect on the ethical and human implications, including the potential impact on various stakeholders. Conclude with recommendations for deployment, monitoring, and maintenance that take these considerations into account.\n",
        "\n",
        "## Use the results from Question 4 to support your rationale."
      ],
      "metadata": {
        "id": "V0Vrp77Qf6KY"
      }
    },
    {
      "cell_type": "markdown",
      "source": [],
      "metadata": {
        "id": "z75TxkcfcWF0"
      }
    },
    {
      "cell_type": "markdown",
      "source": [
        "################################################################################\n",
        "\n",
        "[Double-click to write your answer. Create as many text cells as needed].\n",
        "\n",
        "\n",
        "################################################################################"
      ],
      "metadata": {
        "id": "mQyJEjiWZfFe"
      }
    },
    {
      "cell_type": "code",
      "source": [
        "# [Write your Python code here. Create as many code cells as needed]."
      ],
      "metadata": {
        "id": "KlOzLDuuZfFf"
      },
      "execution_count": null,
      "outputs": []
    },
    {
      "cell_type": "markdown",
      "source": [
        "\n",
        "\n",
        "---\n",
        "\n",
        "\n",
        "\n",
        "---\n",
        "\n",
        "\n",
        "\n",
        "---\n",
        "\n"
      ],
      "metadata": {
        "id": "E0M6V5c3kCyQ"
      }
    }
  ]
}